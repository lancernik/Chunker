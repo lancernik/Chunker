{
 "cells": [
  {
   "cell_type": "markdown",
   "metadata": {},
   "source": [
    "Dane wejściowe do znormalizowania:"
   ]
  },
  {
   "cell_type": "markdown",
   "metadata": {},
   "source": [
    "1) Czy przybliżenie zdjęcia jest takie samo? (Ilość pixeli na cm^2)"
   ]
  },
  {
   "cell_type": "markdown",
   "metadata": {},
   "source": [
    "Rozwiązanie: Chunker musi przyjmować rozdzielczość \"wejsciową\" (Dobrana w wyniku optymalizacji) oraz \"wyjściową\" (U nas 96x96)"
   ]
  },
  {
   "cell_type": "code",
   "execution_count": 13,
   "metadata": {},
   "outputs": [],
   "source": [
    "import cv2\n",
    "from PIL import Image\n",
    "import numpy as np\n",
    "import pandas as pd"
   ]
  },
  {
   "cell_type": "code",
   "execution_count": 14,
   "metadata": {},
   "outputs": [],
   "source": [
    "image_path = r\"C:\\Users\\lancernik\\1GitProjects\\Chunker\\data\\cmuj\\brC.tif\""
   ]
  },
  {
   "cell_type": "code",
   "execution_count": 15,
   "metadata": {},
   "outputs": [],
   "source": [
    "img = cv2.imread(image_path)"
   ]
  },
  {
   "cell_type": "code",
   "execution_count": 16,
   "metadata": {},
   "outputs": [
    {
     "data": {
      "text/plain": [
       "(3072, 4080, 3)"
      ]
     },
     "execution_count": 16,
     "metadata": {},
     "output_type": "execute_result"
    }
   ],
   "source": [
    "img.shape"
   ]
  },
  {
   "cell_type": "code",
   "execution_count": 44,
   "metadata": {},
   "outputs": [],
   "source": [
    "def crop_part(photo_abs_path, crop_dim=(0,0),crop_start_x = 0, crop_start_y=0):\n",
    "    ''' Crop part of image with given dim, from some starting point for given x and y\n",
    "    INPUT\n",
    "    photo_abs_path = photo absolute path\n",
    "    crop_dim = dim for output image\n",
    "    crop_start_x = x cord for cut start\n",
    "    crop_start_y = y cord for cut start\n",
    "    \n",
    "    OUTPUT\n",
    "    cropped_image - array with image\n",
    "    out_of_image - 0 if its ok,  1 if cut is on right border ,  2 if is too high\n",
    "    '''\n",
    "    image_to_crop = cv2.imread(image_path)\n",
    "    width, height, channel = image_to_crop.shape\n",
    "    \n",
    "    if height < crop_dim[1]+crop_start_y and width < crop_dim[0]+crop_start_x:\n",
    "        #print(height,crop_dim[1])\n",
    "        #print(\"Cutting out of width and height!\")\n",
    "       \n",
    "        cropped_image = image_to_crop[width-crop_dim[0]:width,height-crop_dim[1]:height:]\n",
    "        out_of_image = 3\n",
    "        print(\"Returned shape: {} \\n crop_start_x: {} px \\n crop_start_y: {} px\".format(cropped_image.shape,width-crop_dim[0],height-crop_dim[1]))\n",
    "      \n",
    "    elif width < crop_dim[0]+crop_start_x:\n",
    "        cropped_image = image_to_crop[width-crop_dim[0]:width,crop_start_y:crop_start_y+crop_dim[0],:]\n",
    "        out_of_image = 1\n",
    "        #print(\"Cutting out of width! \\n Max crop_start_x for your crop_dim is  {} \".format(width-crop_dim[1]))\n",
    "        print(\"Returned shape: {} \\n crop_start_x: {} px \\n crop_start_y: {} px\".format(cropped_image.shape,width-crop_dim[0],crop_start_y))\n",
    "   \n",
    "    elif height < crop_dim[1]+crop_start_y:\n",
    "        print(height,crop_dim[1])\n",
    "        #print(\"Cutting out of width! \\n Max crop_start_y for your crop_dim is  {} \".format(height-crop_dim[1]))\n",
    "        cropped_image = image_to_crop[crop_start_x:crop_start_x+crop_dim[1],height-crop_dim[1]:height,:]\n",
    "        print(\"Returned shape: {} \\n crop_start_x: {} px \\n crop_start_y: {} px\".format(cropped_image.shape,crop_start_x,height-crop_dim[1]))\n",
    "      \n",
    "   \n",
    "        \n",
    "        out_of_image = 2\n",
    "\n",
    "    else:\n",
    "        cropped_image = image_to_crop[crop_start_y:crop_start_y+crop_dim[0],crop_start_x:crop_start_x+crop_dim[1],:]\n",
    "        out_of_image = 0\n",
    "        #print(\"Returned shape: {} \\n crop_start_x: {} px \\n crop_start_y: {} px\".format(cropped_image.shape,crop_start_x,crop_start_y))\n",
    "    #print(\"Returned shape: {} \\n crop_start_x: {} px \\n crop_start_y: {} px\".format(cropped_image.shape,crop_start_x,crop_start_y))\n",
    "    return cropped_image,out_of_image"
   ]
  },
  {
   "cell_type": "code",
   "execution_count": 18,
   "metadata": {},
   "outputs": [
    {
     "name": "stdout",
     "output_type": "stream",
     "text": [
      "Returned shape: (300, 300, 3) \n",
      " crop_start_x: 4 px \n",
      " crop_start_y: 50 px\n"
     ]
    }
   ],
   "source": [
    "foto,out = crop_part(photo_abs_path=image_path, \n",
    "            crop_dim=(300,300),\n",
    "            crop_start_x = 4,   \n",
    "            crop_start_y= 50 )"
   ]
  },
  {
   "cell_type": "code",
   "execution_count": 19,
   "metadata": {},
   "outputs": [],
   "source": [
    "img = Image.fromarray(foto, 'RGB')\n",
    "img.show()"
   ]
  },
  {
   "cell_type": "code",
   "execution_count": 45,
   "metadata": {},
   "outputs": [],
   "source": [
    "\n",
    "def cropper(photo_abs_path, crop_dim=(400,400)):\n",
    "    image_to_crop = cv2.imread(image_path) \n",
    "    width, height, channel = image_to_crop.shape\n",
    "    print(\"You are cropping image with dim: {}\".format(image_to_crop.shape))\n",
    "    x_crop = 0\n",
    "    y_crop = 0\n",
    "    stop_check_2 = 0\n",
    "    place_list = []\n",
    "    images_list = []\n",
    "    images_dataframe = pd.DataFrame() \n",
    "  \n",
    "    for i in range(0,int(np.ceil(height/crop_dim[1]))):\n",
    "        #Iterating by height\n",
    "       # print(i)\n",
    "        \n",
    "        \n",
    "\n",
    "\n",
    "        \n",
    "        for j in range(0,int(np.ceil(width/crop_dim[0]))):\n",
    "            #Iterating by width\n",
    "            #print(j)\n",
    "            \n",
    "            cropped_image,out = crop_part(photo_abs_path= image_path, \n",
    "                                        crop_dim=crop_dim,\n",
    "                                        crop_start_x = x_crop,   \n",
    "                                        crop_start_y= y_crop )\n",
    "            \n",
    "            images_list.append(cropped_image)\n",
    "            place_list.append([i,j])\n",
    "            x_crop += crop_dim[0]\n",
    "            #print(out)\n",
    "            if out == 1:\n",
    "                x_crop = 0\n",
    "                y_crop += crop_dim[1]\n",
    "                break\n",
    "\n",
    "            elif out ==3:\n",
    "                print(\"Koniec :)\")\n",
    "            \n",
    "            if stop_check_2 != 1:          \n",
    "                if out == 2:\n",
    "                    x_crop = 300\n",
    "                    stop_check_2 = 1\n",
    "    return images_list, place_list"
   ]
  },
  {
   "cell_type": "code",
   "execution_count": 46,
   "metadata": {},
   "outputs": [
    {
     "name": "stdout",
     "output_type": "stream",
     "text": [
      "You are cropping image with dim: (3072, 4080, 3)\n",
      "Returned shape: (400, 400, 3) \n",
      " crop_start_x: 2672 px \n",
      " crop_start_y: 0 px\n",
      "Returned shape: (400, 400, 3) \n",
      " crop_start_x: 2672 px \n",
      " crop_start_y: 400 px\n",
      "Returned shape: (400, 400, 3) \n",
      " crop_start_x: 2672 px \n",
      " crop_start_y: 800 px\n",
      "Returned shape: (400, 400, 3) \n",
      " crop_start_x: 2672 px \n",
      " crop_start_y: 1200 px\n",
      "Returned shape: (400, 400, 3) \n",
      " crop_start_x: 2672 px \n",
      " crop_start_y: 1600 px\n",
      "Returned shape: (400, 400, 3) \n",
      " crop_start_x: 2672 px \n",
      " crop_start_y: 2000 px\n",
      "Returned shape: (400, 400, 3) \n",
      " crop_start_x: 2672 px \n",
      " crop_start_y: 2400 px\n",
      "Returned shape: (400, 400, 3) \n",
      " crop_start_x: 2672 px \n",
      " crop_start_y: 2800 px\n",
      "Returned shape: (400, 400, 3) \n",
      " crop_start_x: 2672 px \n",
      " crop_start_y: 3200 px\n",
      "Returned shape: (400, 400, 3) \n",
      " crop_start_x: 2672 px \n",
      " crop_start_y: 3600 px\n",
      "4080 400\n",
      "Returned shape: (400, 400, 3) \n",
      " crop_start_x: 0 px \n",
      " crop_start_y: 3680 px\n",
      "4080 400\n",
      "Returned shape: (400, 400, 3) \n",
      " crop_start_x: 300 px \n",
      " crop_start_y: 3680 px\n",
      "4080 400\n",
      "Returned shape: (400, 400, 3) \n",
      " crop_start_x: 700 px \n",
      " crop_start_y: 3680 px\n",
      "4080 400\n",
      "Returned shape: (400, 400, 3) \n",
      " crop_start_x: 1100 px \n",
      " crop_start_y: 3680 px\n",
      "4080 400\n",
      "Returned shape: (400, 400, 3) \n",
      " crop_start_x: 1500 px \n",
      " crop_start_y: 3680 px\n",
      "4080 400\n",
      "Returned shape: (400, 400, 3) \n",
      " crop_start_x: 1900 px \n",
      " crop_start_y: 3680 px\n",
      "4080 400\n",
      "Returned shape: (400, 400, 3) \n",
      " crop_start_x: 2300 px \n",
      " crop_start_y: 3680 px\n",
      "Returned shape: (400, 400, 3) \n",
      " crop_start_x: 2672 px \n",
      " crop_start_y: 3680 px\n",
      "Koniec :)\n"
     ]
    }
   ],
   "source": [
    "images_list,place_list = cropper(image_path)\n",
    "    "
   ]
  },
  {
   "cell_type": "code",
   "execution_count": 47,
   "metadata": {},
   "outputs": [
    {
     "data": {
      "text/plain": [
       "[[0, 0],\n",
       " [0, 1],\n",
       " [0, 2],\n",
       " [0, 3],\n",
       " [0, 4],\n",
       " [0, 5],\n",
       " [0, 6],\n",
       " [0, 7],\n",
       " [1, 0],\n",
       " [1, 1],\n",
       " [1, 2],\n",
       " [1, 3],\n",
       " [1, 4],\n",
       " [1, 5],\n",
       " [1, 6],\n",
       " [1, 7],\n",
       " [2, 0],\n",
       " [2, 1],\n",
       " [2, 2],\n",
       " [2, 3],\n",
       " [2, 4],\n",
       " [2, 5],\n",
       " [2, 6],\n",
       " [2, 7],\n",
       " [3, 0],\n",
       " [3, 1],\n",
       " [3, 2],\n",
       " [3, 3],\n",
       " [3, 4],\n",
       " [3, 5],\n",
       " [3, 6],\n",
       " [3, 7],\n",
       " [4, 0],\n",
       " [4, 1],\n",
       " [4, 2],\n",
       " [4, 3],\n",
       " [4, 4],\n",
       " [4, 5],\n",
       " [4, 6],\n",
       " [4, 7],\n",
       " [5, 0],\n",
       " [5, 1],\n",
       " [5, 2],\n",
       " [5, 3],\n",
       " [5, 4],\n",
       " [5, 5],\n",
       " [5, 6],\n",
       " [5, 7],\n",
       " [6, 0],\n",
       " [6, 1],\n",
       " [6, 2],\n",
       " [6, 3],\n",
       " [6, 4],\n",
       " [6, 5],\n",
       " [6, 6],\n",
       " [6, 7],\n",
       " [7, 0],\n",
       " [7, 1],\n",
       " [7, 2],\n",
       " [7, 3],\n",
       " [7, 4],\n",
       " [7, 5],\n",
       " [7, 6],\n",
       " [7, 7],\n",
       " [8, 0],\n",
       " [8, 1],\n",
       " [8, 2],\n",
       " [8, 3],\n",
       " [8, 4],\n",
       " [8, 5],\n",
       " [8, 6],\n",
       " [8, 7],\n",
       " [9, 0],\n",
       " [9, 1],\n",
       " [9, 2],\n",
       " [9, 3],\n",
       " [9, 4],\n",
       " [9, 5],\n",
       " [9, 6],\n",
       " [9, 7],\n",
       " [10, 0],\n",
       " [10, 1],\n",
       " [10, 2],\n",
       " [10, 3],\n",
       " [10, 4],\n",
       " [10, 5],\n",
       " [10, 6],\n",
       " [10, 7]]"
      ]
     },
     "execution_count": 47,
     "metadata": {},
     "output_type": "execute_result"
    }
   ],
   "source": [
    "place_list"
   ]
  },
  {
   "cell_type": "code",
   "execution_count": null,
   "metadata": {},
   "outputs": [],
   "source": []
  },
  {
   "cell_type": "code",
   "execution_count": null,
   "metadata": {},
   "outputs": [],
   "source": []
  }
 ],
 "metadata": {
  "kernelspec": {
   "display_name": "Python 3",
   "language": "python",
   "name": "python3"
  },
  "language_info": {
   "codemirror_mode": {
    "name": "ipython",
    "version": 3
   },
   "file_extension": ".py",
   "mimetype": "text/x-python",
   "name": "python",
   "nbconvert_exporter": "python",
   "pygments_lexer": "ipython3",
   "version": "3.7.1"
  }
 },
 "nbformat": 4,
 "nbformat_minor": 2
}
