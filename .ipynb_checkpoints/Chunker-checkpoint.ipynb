{
 "cells": [
  {
   "cell_type": "markdown",
   "metadata": {},
   "source": [
    "Dane wejściowe do znormalizowania:"
   ]
  },
  {
   "cell_type": "markdown",
   "metadata": {},
   "source": [
    "1) Czy przybliżenie zdjęcia jest takie samo? (Ilość pixeli na cm^2)"
   ]
  },
  {
   "cell_type": "markdown",
   "metadata": {},
   "source": [
    "Rozwiązanie: Chunker musi przyjmować rozdzielczość \"wejsciową\" (Dobrana w wyniku optymalizacji) oraz \"wyjściową\" (U nas 96x96)"
   ]
  },
  {
   "cell_type": "markdown",
   "metadata": {},
   "source": [
    "# WAZNE !!!!!"
   ]
  },
  {
   "cell_type": "code",
   "execution_count": 61,
   "metadata": {},
   "outputs": [
    {
     "data": {
      "text/plain": [
       "'\\nZ całeg otego kodu istotna jest tylko jedna funkcja, to co tam jest pod tym nie ma znaczenia! :D\\n\\n\\n\\n\\ndef cropper  \\n                              Input:\\n               photo_abs_path     <-- path do zdjęcia\\n               crop_dim           <-- Dim na jaki ma być krojone\\n               one_row = True     <-- Aktywuje to, że ściagane są obrazu z jednego row\\'a\\n               start_row = 2      <-- Wybór row\\'a \\n                            \\n                            output:\\n                images_list   <-- Lista zawierająca pocięte zdjęcia\\n                place_list    <-- Lista zawierajaca pozycję tego zdjęcia \"w układzie zdjęć\"\\n                \\n                \\nDodana zostanie możliwośc wyboru od którego do którego zdjęcia chcemy wziąć , bo aktualnie zajmuja zbyt duzo pamięci\\n\\n\\n'"
      ]
     },
     "execution_count": 61,
     "metadata": {},
     "output_type": "execute_result"
    }
   ],
   "source": [
    "'''\n",
    "Z całeg otego kodu istotna jest tylko jedna funkcja, to co tam jest pod tym nie ma znaczenia! :D\n",
    "\n",
    "\n",
    "\n",
    "\n",
    "def cropper  \n",
    "                              Input:\n",
    "                              OBOWIAZKOWY\n",
    "               photo_abs_path     <-- path do zdjęcia\n",
    "               crop_dim           <-- Dim na jaki ma być krojone\n",
    "               \n",
    "                               DODATKOWY, bez niego leci dla całego zdjęcia\n",
    "               one_row = True     <-- Aktywuje to, że ściagane są obrazu z jednego row'a    \n",
    "               start_row = 2      <-- Wybór row'a \n",
    "                            \n",
    "                            \n",
    "                            \n",
    "                            output:\n",
    "                images_list   <-- Lista zawierająca pocięte zdjęcia\n",
    "                place_list    <-- Lista zawierajaca pozycję tego zdjęcia \"w układzie zdjęć\"\n",
    "                \n",
    "                \n",
    "Dodana zostanie możliwośc wyboru od którego do którego zdjęcia chcemy wziąć , bo aktualnie zajmuja zbyt duzo pamięci\n",
    "\n",
    "\n",
    "'''"
   ]
  },
  {
   "cell_type": "markdown",
   "metadata": {},
   "source": [
    "# WAZNE !!!!!"
   ]
  },
  {
   "cell_type": "code",
   "execution_count": 13,
   "metadata": {},
   "outputs": [],
   "source": [
    "import cv2\n",
    "from PIL import Image\n",
    "import numpy as np\n",
    "import pandas as pd"
   ]
  },
  {
   "cell_type": "code",
   "execution_count": 14,
   "metadata": {},
   "outputs": [],
   "source": [
    "image_path = r\"C:\\Users\\lancernik\\1GitProjects\\Chunker\\data\\cmuj\\brC.tif\""
   ]
  },
  {
   "cell_type": "code",
   "execution_count": 15,
   "metadata": {},
   "outputs": [],
   "source": [
    "img = cv2.imread(image_path)"
   ]
  },
  {
   "cell_type": "code",
   "execution_count": 16,
   "metadata": {},
   "outputs": [
    {
     "data": {
      "text/plain": [
       "(3072, 4080, 3)"
      ]
     },
     "execution_count": 16,
     "metadata": {},
     "output_type": "execute_result"
    }
   ],
   "source": [
    "img.shape"
   ]
  },
  {
   "cell_type": "code",
   "execution_count": 48,
   "metadata": {},
   "outputs": [],
   "source": [
    "def crop_part(photo_abs_path, crop_dim=(0,0),crop_start_x = 0, crop_start_y=0):\n",
    "    ''' Crop part of image with given dim, from some starting point for given x and y\n",
    "    INPUT\n",
    "    photo_abs_path = photo absolute path\n",
    "    crop_dim = dim for output image\n",
    "    crop_start_x = x cord for cut start\n",
    "    crop_start_y = y cord for cut start\n",
    "    \n",
    "    OUTPUT\n",
    "    cropped_image - array with image\n",
    "    out_of_image - 0 if its ok,  1 if cut is on right border ,  2 if is too high\n",
    "    '''\n",
    "    image_to_crop = cv2.imread(image_path)\n",
    "    width, height, channel = image_to_crop.shape\n",
    "    \n",
    "    if height < crop_dim[1]+crop_start_y and width < crop_dim[0]+crop_start_x:\n",
    "        #print(height,crop_dim[1])\n",
    "        #print(\"Cutting out of width and height!\")\n",
    "       \n",
    "        cropped_image = image_to_crop[width-crop_dim[0]:width,height-crop_dim[1]:height:]\n",
    "        out_of_image = 3\n",
    "        print(\"Returned shape: {} \\n crop_start_x: {} px \\n crop_start_y: {} px\".format(cropped_image.shape,width-crop_dim[0],height-crop_dim[1]))\n",
    "      \n",
    "    elif width < crop_dim[0]+crop_start_x:\n",
    "        cropped_image = image_to_crop[width-crop_dim[0]:width,crop_start_y:crop_start_y+crop_dim[0],:]\n",
    "        out_of_image = 1\n",
    "        #print(\"Cutting out of width! \\n Max crop_start_x for your crop_dim is  {} \".format(width-crop_dim[1]))\n",
    "        print(\"Returned shape: {} \\n crop_start_x: {} px \\n crop_start_y: {} px\".format(cropped_image.shape,width-crop_dim[0],crop_start_y))\n",
    "   \n",
    "    elif height < crop_dim[1]+crop_start_y:\n",
    "        print(height,crop_dim[1])\n",
    "        #print(\"Cutting out of width! \\n Max crop_start_y for your crop_dim is  {} \".format(height-crop_dim[1]))\n",
    "        cropped_image = image_to_crop[crop_start_x:crop_start_x+crop_dim[1],height-crop_dim[1]:height,:]\n",
    "        print(\"Returned shape: {} \\n crop_start_x: {} px \\n crop_start_y: {} px\".format(cropped_image.shape,crop_start_x,height-crop_dim[1]))\n",
    "      \n",
    "   \n",
    "        \n",
    "        out_of_image = 2\n",
    "\n",
    "    else:\n",
    "        cropped_image = image_to_crop[crop_start_y:crop_start_y+crop_dim[0],crop_start_x:crop_start_x+crop_dim[1],:]\n",
    "        out_of_image = 0\n",
    "        print(\"Returned shape: {} \\n crop_start_x: {} px \\n crop_start_y: {} px\".format(cropped_image.shape,crop_start_x,crop_start_y))\n",
    "    #print(\"Returned shape: {} \\n crop_start_x: {} px \\n crop_start_y: {} px\".format(cropped_image.shape,crop_start_x,crop_start_y))\n",
    "    return cropped_image,out_of_image"
   ]
  },
  {
   "cell_type": "code",
   "execution_count": 18,
   "metadata": {},
   "outputs": [
    {
     "name": "stdout",
     "output_type": "stream",
     "text": [
      "Returned shape: (300, 300, 3) \n",
      " crop_start_x: 4 px \n",
      " crop_start_y: 50 px\n"
     ]
    }
   ],
   "source": [
    "foto,out = crop_part(photo_abs_path=image_path, \n",
    "            crop_dim=(300,300),\n",
    "            crop_start_x = 4,   \n",
    "            crop_start_y= 50 )"
   ]
  },
  {
   "cell_type": "code",
   "execution_count": 19,
   "metadata": {},
   "outputs": [],
   "source": [
    "img = Image.fromarray(foto, 'RGB')\n",
    "img.show()"
   ]
  },
  {
   "cell_type": "code",
   "execution_count": 58,
   "metadata": {},
   "outputs": [],
   "source": [
    "\n",
    "def cropper(photo_abs_path, crop_dim=(400,400),start_row=0,one_row=False):\n",
    "    image_to_crop = cv2.imread(image_path) \n",
    "    width, height, channel = image_to_crop.shape\n",
    "    print(\"You are cropping image with dim: {}\".format(image_to_crop.shape))\n",
    "    x_crop = 0\n",
    "    y_crop = 0\n",
    "    stop_check_2 = 0\n",
    "    place_list = []\n",
    "    images_list = []\n",
    "    stop_value = 0\n",
    "    images_dataframe = pd.DataFrame() \n",
    "  \n",
    "    for i in range(start_row,int(np.ceil(height/crop_dim[1]))):\n",
    "        #Iterating by height\n",
    "        \n",
    "        if one_row == True:\n",
    "            if stop_value == 1:\n",
    "                return images_list, place_list \n",
    "            else:\n",
    "                stop_value = 1\n",
    "            \n",
    "            \n",
    "        for j in range(0,int(np.ceil(width/crop_dim[0]))):\n",
    "            #Iterating by width\n",
    "            \n",
    "            cropped_image,out = crop_part(photo_abs_path= image_path, \n",
    "                                        crop_dim=crop_dim,\n",
    "                                        crop_start_x = x_crop,   \n",
    "                                        crop_start_y= y_crop )\n",
    "            \n",
    "            images_list.append(cropped_image)\n",
    "            place_list.append([i,j])\n",
    "            x_crop += crop_dim[0]\n",
    "\n",
    "            if out == 1:\n",
    "                x_crop = 0\n",
    "                y_crop += crop_dim[1]\n",
    "                break\n",
    "\n",
    "            elif out ==3:\n",
    "                print(\"Koniec :)\")\n",
    "            \n",
    "            if stop_check_2 != 1:          \n",
    "                if out == 2:\n",
    "                    x_crop = 300\n",
    "                    stop_check_2 = 1\n",
    "                    \n",
    "            \n",
    "                    \n",
    "    return images_list, place_list"
   ]
  },
  {
   "cell_type": "code",
   "execution_count": 59,
   "metadata": {},
   "outputs": [
    {
     "name": "stdout",
     "output_type": "stream",
     "text": [
      "You are cropping image with dim: (3072, 4080, 3)\n",
      "Returned shape: (500, 500, 3) \n",
      " crop_start_x: 0 px \n",
      " crop_start_y: 0 px\n",
      "Returned shape: (500, 500, 3) \n",
      " crop_start_x: 500 px \n",
      " crop_start_y: 0 px\n",
      "Returned shape: (500, 500, 3) \n",
      " crop_start_x: 1000 px \n",
      " crop_start_y: 0 px\n",
      "Returned shape: (500, 500, 3) \n",
      " crop_start_x: 1500 px \n",
      " crop_start_y: 0 px\n",
      "Returned shape: (500, 500, 3) \n",
      " crop_start_x: 2000 px \n",
      " crop_start_y: 0 px\n",
      "Returned shape: (500, 500, 3) \n",
      " crop_start_x: 2500 px \n",
      " crop_start_y: 0 px\n",
      "Returned shape: (500, 500, 3) \n",
      " crop_start_x: 2572 px \n",
      " crop_start_y: 0 px\n"
     ]
    }
   ],
   "source": [
    "images_list,place_list = cropper(image_path,crop_dim=(500,500),one_row = True, start_row = 2)\n",
    "    "
   ]
  },
  {
   "cell_type": "code",
   "execution_count": 60,
   "metadata": {},
   "outputs": [
    {
     "data": {
      "text/plain": [
       "[[2, 0], [2, 1], [2, 2], [2, 3], [2, 4], [2, 5], [2, 6]]"
      ]
     },
     "execution_count": 60,
     "metadata": {},
     "output_type": "execute_result"
    }
   ],
   "source": [
    "place_list"
   ]
  },
  {
   "cell_type": "code",
   "execution_count": 64,
   "metadata": {},
   "outputs": [],
   "source": [
    "img = Image.fromarray(images_list[2], 'RGB')\n",
    "img.show()"
   ]
  },
  {
   "cell_type": "code",
   "execution_count": null,
   "metadata": {},
   "outputs": [],
   "source": []
  }
 ],
 "metadata": {
  "kernelspec": {
   "display_name": "Python 3",
   "language": "python",
   "name": "python3"
  },
  "language_info": {
   "codemirror_mode": {
    "name": "ipython",
    "version": 3
   },
   "file_extension": ".py",
   "mimetype": "text/x-python",
   "name": "python",
   "nbconvert_exporter": "python",
   "pygments_lexer": "ipython3",
   "version": "3.7.1"
  }
 },
 "nbformat": 4,
 "nbformat_minor": 2
}
