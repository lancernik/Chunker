{
 "cells": [
  {
   "cell_type": "markdown",
   "metadata": {},
   "source": [
    "Dane wejściowe do znormalizowania:"
   ]
  },
  {
   "cell_type": "markdown",
   "metadata": {},
   "source": [
    "1) Czy przybliżenie zdjęcia jest takie samo? (Ilość pixeli na cm^2)"
   ]
  },
  {
   "cell_type": "markdown",
   "metadata": {},
   "source": [
    "Rozwiązanie: Chunker musi przyjmować rozdzielczość \"wejsciową\" (Dobrana w wyniku optymalizacji) oraz \"wyjściową\" (U nas 96x96)"
   ]
  },
  {
   "cell_type": "code",
   "execution_count": 51,
   "metadata": {},
   "outputs": [],
   "source": [
    "import cv2\n",
    "from PIL import Image\n",
    "import numpy as np"
   ]
  },
  {
   "cell_type": "code",
   "execution_count": 165,
   "metadata": {},
   "outputs": [],
   "source": [
    "image_path = r\"C:\\Users\\lancernik\\1GitProjects\\Chunker\\data\\cmuj\\brC.tif\""
   ]
  },
  {
   "cell_type": "code",
   "execution_count": 166,
   "metadata": {},
   "outputs": [],
   "source": [
    "img = cv2.imread(image_path)"
   ]
  },
  {
   "cell_type": "code",
   "execution_count": 167,
   "metadata": {},
   "outputs": [
    {
     "data": {
      "text/plain": [
       "(3072, 4080, 3)"
      ]
     },
     "execution_count": 167,
     "metadata": {},
     "output_type": "execute_result"
    }
   ],
   "source": [
    "img.shape"
   ]
  },
  {
   "cell_type": "code",
   "execution_count": 171,
   "metadata": {},
   "outputs": [],
   "source": [
    "def crop(photo_abs_path, crop_dim=(0,0),crop_start_x = 0, crop_start_y=0):\n",
    "    ''' Crop part of image with given dim, from some starting point for given x and y\n",
    "    INPUT\n",
    "    photo_abs_path = photo absolute path\n",
    "    crop_dim = dim for output image\n",
    "    crop_start_x = x cord for cut start\n",
    "    crop_start_y = y cord for cut start\n",
    "    \n",
    "    OUTPUT\n",
    "    cropped_image - array with image\n",
    "    out_of_image - 0 if its ok,  1 if cut is on right border ,  2 if is too high\n",
    "    '''\n",
    "    image_to_crop = cv2.imread(image_path)\n",
    "    width, height, channel = image_to_crop.shape\n",
    "    \n",
    "    if width < crop_dim[0]+crop_start_x:\n",
    "        cropped_image = image_to_crop[width-crop_dim[0]:width,crop_start_y:crop_start_y+crop_dim[0],:]\n",
    "        out_of_image = 1\n",
    "        print(\"Cutting out of width! \\n Max crop_start_x for your crop_dim is  {} \".format(width-crop_dim[1]))\n",
    "    elif height < crop_dim[1]+crop_start_y:\n",
    "        print(height,crop_dim[1])\n",
    "        print(\"Cutting out of width! \\n Max crop_start_y for your crop_dim is  {} \".format(height-crop_dim[1]))\n",
    "        cropped_image = image_to_crop[crop_start_x:crop_start_x+crop_dim[1],height-crop_dim[1]:height:]\n",
    "        out_of_image = 2\n",
    "    else:\n",
    "        cropped_image = image_to_crop[crop_start_y:crop_start_y+crop_dim[0],crop_start_x:crop_start_x+crop_dim[1],:]\n",
    "        out_of_image = 0\n",
    "        print(\"Returned shape: {} \\n crop_start_x: {} px \\n crop_start_y: {} px\".format(cropped_image.shape,crop_start_x,crop_start_y))\n",
    "\n",
    "    return cropped_image,out_of_image"
   ]
  },
  {
   "cell_type": "code",
   "execution_count": 184,
   "metadata": {},
   "outputs": [
    {
     "name": "stdout",
     "output_type": "stream",
     "text": [
      "Returned shape: (300, 300, 3) \n",
      " crop_start_x: 4 px \n",
      " crop_start_y: 50 px\n"
     ]
    }
   ],
   "source": [
    "foto,out = crop(photo_abs_path=image_path, \n",
    "            crop_dim=(300,300),\n",
    "            crop_start_x = 4,   \n",
    "            crop_start_y= 50 )"
   ]
  },
  {
   "cell_type": "code",
   "execution_count": 186,
   "metadata": {},
   "outputs": [],
   "source": [
    "img = Image.fromarray(foto, 'RGB')\n",
    "img.show()"
   ]
  },
  {
   "cell_type": "code",
   "execution_count": null,
   "metadata": {},
   "outputs": [],
   "source": []
  }
 ],
 "metadata": {
  "kernelspec": {
   "display_name": "Python 3",
   "language": "python",
   "name": "python3"
  },
  "language_info": {
   "codemirror_mode": {
    "name": "ipython",
    "version": 3
   },
   "file_extension": ".py",
   "mimetype": "text/x-python",
   "name": "python",
   "nbconvert_exporter": "python",
   "pygments_lexer": "ipython3",
   "version": "3.7.1"
  }
 },
 "nbformat": 4,
 "nbformat_minor": 2
}
